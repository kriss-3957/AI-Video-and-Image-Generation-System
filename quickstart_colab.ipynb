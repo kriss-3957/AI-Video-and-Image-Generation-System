{
  "nbformat": 4,
  "nbformat_minor": 0,
  "metadata": {
    "colab": {
      "provenance": []
    },
    "kernelspec": {
      "name": "python3",
      "display_name": "Python 3"
    },
    "language_info": {
      "name": "python"
    }
  },
  "cells": [
    {
      "cell_type": "code",
      "execution_count": null,
      "metadata": {
        "id": "xASZUWtojdI6"
      },
      "outputs": [],
      "source": []
    },
    {
      "cell_type": "markdown",
      "source": [
        "|\n",
        "[![Open In Colab](https://colab.research.google.com/assets/colab-badge.svg)](https://colab.research.google.com/github/camenduru/seamless-m4t-colab/blob/main/seamless_expressive_v2_colab.ipynb) | quickstart_colab.ipynb |"
      ],
      "metadata": {
        "id": "6tArBhs6j4Ro"
      }
    },
    {
      "cell_type": "code",
      "source": [],
      "metadata": {
        "id": "YqxoRNsNjkH7"
      },
      "execution_count": null,
      "outputs": []
    },
    {
      "cell_type": "code",
      "source": [],
      "metadata": {
        "id": "L9AmzGtVjkLC"
      },
      "execution_count": null,
      "outputs": []
    },
    {
      "cell_type": "code",
      "source": [
        "# Step 1- Download the project.zip file from the repository:\n",
        "\n",
        "!wget -O project.zip https://github.com/kriss-3957/AI-Video-and-Image-Generation-System/blob/main/project.zip"
      ],
      "metadata": {
        "id": "P_H87PoOjkON"
      },
      "execution_count": null,
      "outputs": []
    },
    {
      "cell_type": "code",
      "source": [
        "# Step 2- Unzip the downloaded file:\n",
        "\n",
        "!unzip project -d /content/project"
      ],
      "metadata": {
        "id": "IkIeZ6rKjkRW"
      },
      "execution_count": null,
      "outputs": []
    },
    {
      "cell_type": "code",
      "source": [
        "# Step 3- Set the directory to the project folder\n",
        "\n",
        "!cd /content/project"
      ],
      "metadata": {
        "id": "7lPo8I0OjkUj"
      },
      "execution_count": null,
      "outputs": []
    },
    {
      "cell_type": "markdown",
      "source": [
        "Step 4- Set the ngrok Authentication Token:\n",
        "\n",
        "**Obtain Your ngrok Authentication Token**\n",
        "1. Sign up for a free ngrok account at [ngrok.com](https://ngrok.com/).\n",
        "2. Log in to your ngrok dashboard.\n",
        "3. Locate your authentication token on the \"Get Started\" page or under the \"Auth\" section of your account.\n",
        "\n",
        "**Add the Token to the Project**\n",
        "<br> Edit the 'authtoken.env' environmen t variable file in the project repository and replace <your_ngrok_auth_token_here> with your actual Authtoken and save it.\n",
        "\n"
      ],
      "metadata": {
        "id": "GbIk7_FJk2y8"
      }
    },
    {
      "cell_type": "code",
      "source": [
        "# Step 5-  Install dependencies:\n",
        "\n",
        "!pip install -r requirements.txt"
      ],
      "metadata": {
        "id": "jHnxEULIjkbA"
      },
      "execution_count": null,
      "outputs": []
    },
    {
      "cell_type": "code",
      "source": [
        "# Step 6- Run the Flask app to generate and serve content:\n",
        "\n",
        "!python app.py"
      ],
      "metadata": {
        "id": "ZjGFiHwOjkem"
      },
      "execution_count": null,
      "outputs": []
    },
    {
      "cell_type": "code",
      "source": [],
      "metadata": {
        "id": "PCpfdKRbjkjF"
      },
      "execution_count": null,
      "outputs": []
    }
  ]
}